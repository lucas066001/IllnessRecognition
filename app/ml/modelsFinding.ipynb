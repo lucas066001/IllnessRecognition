{
 "cells": [
  {
   "cell_type": "markdown",
   "metadata": {},
   "source": [
    "# Model finding\n",
    "\n",
    "This notebook will work finding the best model to make predictions on our datas \n",
    "\n",
    "**Main goals are**: \n",
    "- Find or more suitable models\n",
    "- Tune their parameters to improve their performances\n",
    "- Evaluate their performance using different metrics"
   ]
  },
  {
   "cell_type": "code",
   "execution_count": 1,
   "metadata": {},
   "outputs": [],
   "source": [
    "# Retreiving a significative amount of data\n",
    "from local_lib.dataset import retreiveDatasetFromCsv\n",
    "\n",
    "dataset = retreiveDatasetFromCsv(3000)"
   ]
  },
  {
   "cell_type": "markdown",
   "metadata": {},
   "source": [
    "**Image retreiving was created due to memory problem, since it is solved by reducing csv shape it is not necessary anymore**"
   ]
  },
  {
   "cell_type": "code",
   "execution_count": 93,
   "metadata": {},
   "outputs": [],
   "source": [
    "# Retreiving a significative amount of data\n",
    "# from local_lib.dataset_images import retreiveDatasetFromImages\n",
    "\n",
    "# dataset = retreiveDatasetFromImages(500)"
   ]
  },
  {
   "cell_type": "code",
   "execution_count": 2,
   "metadata": {},
   "outputs": [
    {
     "data": {
      "text/plain": [
       "array([84, 81, 81, ...,  0,  0,  0], dtype=int64)"
      ]
     },
     "execution_count": 2,
     "metadata": {},
     "output_type": "execute_result"
    }
   ],
   "source": [
    "dataset.iloc[0][\"pixel_value\"]"
   ]
  },
  {
   "cell_type": "markdown",
   "metadata": {},
   "source": [
    "**We use a custom flatten mask to make our data compatible with machine learning models**"
   ]
  },
  {
   "cell_type": "code",
   "execution_count": 3,
   "metadata": {},
   "outputs": [],
   "source": [
    "from local_lib.flatten_transformer import FlattenTransformer\n",
    "from sklearn.pipeline import Pipeline\n",
    "import numpy as np\n",
    "\n",
    "pipeline = Pipeline([\n",
    "    ('image_mask', FlattenTransformer()),\n",
    "])\n",
    "\n",
    "# Fit and transform data\n",
    "X = pipeline.fit_transform(dataset[\"pixel_value\"])\n",
    "y = np.array(list(dataset[\"class\"]))"
   ]
  },
  {
   "cell_type": "code",
   "execution_count": 4,
   "metadata": {},
   "outputs": [
    {
     "data": {
      "text/plain": [
       "(3000, 35860)"
      ]
     },
     "execution_count": 4,
     "metadata": {},
     "output_type": "execute_result"
    }
   ],
   "source": [
    "import numpy as np\n",
    "np.shape(X)"
   ]
  },
  {
   "cell_type": "code",
   "execution_count": 5,
   "metadata": {},
   "outputs": [],
   "source": [
    "from sklearn.model_selection import train_test_split\n",
    "import numpy as np\n",
    "\n",
    "X_train, X_test, y_train, y_test = train_test_split(X, y, test_size=0.33, random_state=0)"
   ]
  },
  {
   "cell_type": "code",
   "execution_count": 9,
   "metadata": {},
   "outputs": [
    {
     "name": "stdout",
     "output_type": "stream",
     "text": [
      "Using randomly generated answer we get 0.3595959595959596% Accuracy\n",
      "Using only most frequent number as answer we get 47.17% Accuracy\n",
      "Using uniform distribution answer we get 34.14% Accuracy\n"
     ]
    }
   ],
   "source": [
    "# First of all we will use a DummyClassifier to get an idea of what a uncorrelated model looks like\n",
    "from sklearn.dummy import DummyClassifier\n",
    "\n",
    "dummy_clf = DummyClassifier(strategy=\"stratified\")\n",
    "dummy_clf.fit(X_train, y_train)\n",
    "ac = dummy_clf.score(X_test, y_test)\n",
    "print(\"Using randomly generated answer we get \" + str(ac) + \"% Accuracy\")\n",
    "\n",
    "dummy_clf = DummyClassifier(strategy=\"most_frequent\")\n",
    "dummy_clf.fit(X_train, y_train)\n",
    "ac = round(dummy_clf.score(X_test, y_test) * 100, 2)\n",
    "print(\"Using only most frequent number as answer we get \" + str(ac) + \"% Accuracy\")\n",
    "\n",
    "dummy_clf = DummyClassifier(strategy=\"uniform\")\n",
    "dummy_clf.fit(X_train, y_train)\n",
    "ac = round(dummy_clf.score(X_test, y_test) * 100, 2)\n",
    "print(\"Using uniform distribution answer we get \" + str(ac) + \"% Accuracy\")"
   ]
  },
  {
   "cell_type": "markdown",
   "metadata": {},
   "source": [
    "### We can now get a first feed back from our differents data preprocessing strategies\n",
    "To vizualize it we simply use a Knn models and scores it using our differents masks"
   ]
  },
  {
   "cell_type": "markdown",
   "metadata": {},
   "source": [
    "**Baseline mask**"
   ]
  },
  {
   "cell_type": "code",
   "execution_count": 10,
   "metadata": {},
   "outputs": [
    {
     "name": "stdout",
     "output_type": "stream",
     "text": [
      "Combined mask accuracy is around 82.04% Accuracy - [TrainSet]\n",
      "Combined mask accuracy is around 71.62% Accuracy - [TestSet]\n"
     ]
    }
   ],
   "source": [
    "from sklearn.neighbors import KNeighborsClassifier\n",
    "from local_lib.mask_transformer import MaskSeuilTransformer\n",
    "from sklearn.pipeline import Pipeline\n",
    "\n",
    "pipeline = Pipeline([\n",
    "    ('image_mask', MaskSeuilTransformer(strategy='baseline')),\n",
    "    ('knn', KNeighborsClassifier())\n",
    "])\n",
    "\n",
    "pipeline.fit(X_train, y_train)\n",
    "accTrain = round(pipeline.score(X_train, y_train) * 100, 2)\n",
    "accTest = round(pipeline.score(X_test, y_test) * 100, 2)\n",
    "print(\"Combined mask accuracy is around \" + str(accTrain) + \"% Accuracy - [TrainSet]\")\n",
    "print(\"Combined mask accuracy is around \" + str(accTest) + \"% Accuracy - [TestSet]\")"
   ]
  },
  {
   "cell_type": "markdown",
   "metadata": {},
   "source": [
    "**Geometry mask**"
   ]
  },
  {
   "cell_type": "code",
   "execution_count": 11,
   "metadata": {},
   "outputs": [
    {
     "name": "stdout",
     "output_type": "stream",
     "text": [
      "Combined mask accuracy is around 81.69% Accuracy - [TrainSet]\n",
      "Combined mask accuracy is around 71.31% Accuracy - [TestSet]\n"
     ]
    }
   ],
   "source": [
    "pipeline = Pipeline([\n",
    "    ('image_mask', MaskSeuilTransformer(strategy='geometry')),\n",
    "    ('knn', KNeighborsClassifier())\n",
    "])\n",
    "\n",
    "pipeline.fit(X_train, y_train)\n",
    "accTrain = round(pipeline.score(X_train, y_train) * 100, 2)\n",
    "accTest = round(pipeline.score(X_test, y_test) * 100, 2)\n",
    "print(\"Combined mask accuracy is around \" + str(accTrain) + \"% Accuracy - [TrainSet]\")\n",
    "print(\"Combined mask accuracy is around \" + str(accTest) + \"% Accuracy - [TestSet]\")"
   ]
  },
  {
   "cell_type": "markdown",
   "metadata": {},
   "source": [
    "**Combined mask**"
   ]
  },
  {
   "cell_type": "code",
   "execution_count": 12,
   "metadata": {},
   "outputs": [
    {
     "name": "stdout",
     "output_type": "stream",
     "text": [
      "Combined mask accuracy is around 81.14% Accuracy - [TrainSet]\n",
      "Combined mask accuracy is around 68.79% Accuracy - [TestSet]\n"
     ]
    }
   ],
   "source": [
    "pipeline = Pipeline([\n",
    "    ('image_mask', MaskSeuilTransformer(strategy='combined')),\n",
    "    ('knn', KNeighborsClassifier())\n",
    "])\n",
    "\n",
    "pipeline.fit(X_train, y_train)\n",
    "accTrain = round(pipeline.score(X_train, y_train) * 100, 2)\n",
    "accTest = round(pipeline.score(X_test, y_test) * 100, 2)\n",
    "print(\"Combined mask accuracy is around \" + str(accTrain) + \"% Accuracy - [TrainSet]\")\n",
    "print(\"Combined mask accuracy is around \" + str(accTest) + \"% Accuracy - [TestSet]\")"
   ]
  },
  {
   "cell_type": "markdown",
   "metadata": {},
   "source": [
    "### From now on, combined mask seems to really overfit wich is an unexpected behavior since his main goal was to erase parasite datas\n",
    "The best one so far is the **baseline strategy**"
   ]
  },
  {
   "cell_type": "markdown",
   "metadata": {},
   "source": [
    "Trying to improve performance by adding different scalers"
   ]
  },
  {
   "cell_type": "markdown",
   "metadata": {},
   "source": [
    "**StandardScaler**"
   ]
  },
  {
   "cell_type": "code",
   "execution_count": 36,
   "metadata": {},
   "outputs": [
    {
     "name": "stdout",
     "output_type": "stream",
     "text": [
      "Mean train score: 0.8050833333333334\n",
      "Mean validation score: 0.7316666666666667\n"
     ]
    }
   ],
   "source": [
    "from sklearn.preprocessing import StandardScaler\n",
    "from sklearn.model_selection import cross_validate\n",
    "\n",
    "pipeline = Pipeline([\n",
    "    ('image_mask', MaskSeuilTransformer(strategy='baseline')),\n",
    "    ('std_scaler', StandardScaler()),\n",
    "    ('knn', KNeighborsClassifier())\n",
    "])\n",
    "cv_results = cross_validate(pipeline, X, y, cv=5, return_train_score=True)\n",
    "\n",
    "print(\"Mean train score:\", cv_results['train_score'].mean())\n",
    "print(\"Mean validation score:\", cv_results['test_score'].mean())"
   ]
  },
  {
   "cell_type": "markdown",
   "metadata": {},
   "source": [
    "**MinMaxScaler**"
   ]
  },
  {
   "cell_type": "code",
   "execution_count": 20,
   "metadata": {},
   "outputs": [
    {
     "name": "stdout",
     "output_type": "stream",
     "text": [
      "Mean train score: 0.8087500000000001\n",
      "Mean validation score: 0.7286666666666666\n"
     ]
    }
   ],
   "source": [
    "from sklearn.preprocessing import MinMaxScaler\n",
    "from sklearn.model_selection import cross_validate\n",
    "\n",
    "pipeline = Pipeline([\n",
    "    ('image_mask', MaskSeuilTransformer(strategy='baseline')),\n",
    "    ('std_scaler', MinMaxScaler()),\n",
    "    ('knn', KNeighborsClassifier())\n",
    "])\n",
    "\n",
    "cv_results = cross_validate(pipeline, X, y, cv=5, return_train_score=True)\n",
    "\n",
    "print(\"Mean train score:\", cv_results['train_score'].mean())\n",
    "print(\"Mean validation score:\", cv_results['test_score'].mean())"
   ]
  },
  {
   "cell_type": "markdown",
   "metadata": {},
   "source": [
    "**Normalizer**"
   ]
  },
  {
   "cell_type": "code",
   "execution_count": 21,
   "metadata": {},
   "outputs": [
    {
     "name": "stdout",
     "output_type": "stream",
     "text": [
      "Mean train score: 0.8045833333333332\n",
      "Mean validation score: 0.7230000000000001\n"
     ]
    }
   ],
   "source": [
    "from sklearn.preprocessing import Normalizer\n",
    "from sklearn.model_selection import cross_validate\n",
    "\n",
    "pipeline = Pipeline([\n",
    "    ('image_mask', MaskSeuilTransformer(strategy='baseline')),\n",
    "    ('std_scaler', Normalizer()),\n",
    "    ('knn', KNeighborsClassifier())\n",
    "])\n",
    "\n",
    "cv_results = cross_validate(pipeline, X, y, cv=5, return_train_score=True)\n",
    "\n",
    "print(\"Mean train score:\", cv_results['train_score'].mean())\n",
    "print(\"Mean validation score:\", cv_results['test_score'].mean())"
   ]
  },
  {
   "cell_type": "markdown",
   "metadata": {},
   "source": [
    "### Now we look for the best n_neighbors params setup"
   ]
  },
  {
   "cell_type": "code",
   "execution_count": 26,
   "metadata": {},
   "outputs": [
    {
     "name": "stdout",
     "output_type": "stream",
     "text": [
      "Scaled data upon knn accuracy is around 75.15% Accuracy\n"
     ]
    },
    {
     "data": {
      "text/plain": [
       "{'knn__n_neighbors': 13}"
      ]
     },
     "execution_count": 26,
     "metadata": {},
     "output_type": "execute_result"
    }
   ],
   "source": [
    "from sklearn.model_selection import GridSearchCV\n",
    "\n",
    "pipeline = Pipeline([\n",
    "    ('image_mask', MaskSeuilTransformer(strategy='baseline')),\n",
    "    ('std_scaler', Normalizer()),\n",
    "    ('knn', KNeighborsClassifier())\n",
    "])\n",
    "\n",
    "param_grid = {'knn__n_neighbors': range(1,20)}\n",
    "\n",
    "model = GridSearchCV(\n",
    "    pipeline,\n",
    "    param_grid=param_grid\n",
    ").fit(X, y)\n",
    "\n",
    "ac = round(model.score(X_test, y_test) * 100, 2)\n",
    "print(\"Scaled data upon knn accuracy is around \" + str(ac) + \"% Accuracy\")\n",
    "model.best_params_"
   ]
  },
  {
   "cell_type": "markdown",
   "metadata": {},
   "source": [
    "**Value found produce a lower accuracy score but if we look bellow it stopped overfitting**"
   ]
  },
  {
   "cell_type": "code",
   "execution_count": 34,
   "metadata": {},
   "outputs": [
    {
     "data": {
      "image/png": "[encoded data removed]",
      "text/plain": [
       "<Figure size 1000x600 with 1 Axes>"
      ]
     },
     "metadata": {},
     "output_type": "display_data"
    }
   ],
   "source": [
    "import numpy as np\n",
    "import matplotlib.pyplot as plt\n",
    "from sklearn.model_selection import learning_curve\n",
    "from sklearn.pipeline import Pipeline\n",
    "from sklearn.preprocessing import StandardScaler\n",
    "from sklearn.neighbors import KNeighborsClassifier\n",
    "\n",
    "# Define your pipeline\n",
    "pipeline = Pipeline([\n",
    "    ('image_mask', MaskSeuilTransformer(strategy='baseline')),\n",
    "    ('std_scaler', StandardScaler()),\n",
    "    ('knn', KNeighborsClassifier(n_neighbors=13))\n",
    "])\n",
    "\n",
    "# Plot learning curves for the best parameters\n",
    "train_sizes, train_scores, test_scores = learning_curve(\n",
    "    estimator=pipeline,\n",
    "    X=X_train,\n",
    "    y=y_train,\n",
    "    train_sizes=[0.1, 0.3, 0.5, 0.6, 0.9, 1, 2],\n",
    "    n_jobs=-1,\n",
    "    scoring='accuracy',\n",
    "    random_state=42\n",
    ")\n",
    "\n",
    "# Calculate mean and standard deviation of training scores and test scores\n",
    "train_mean = np.mean(train_scores, axis=1)\n",
    "train_std = np.std(train_scores, axis=1)\n",
    "test_mean = np.mean(test_scores, axis=1)\n",
    "test_std = np.std(test_scores, axis=1)\n",
    "\n",
    "# Plot learning curve\n",
    "plt.figure(figsize=(10, 6))\n",
    "plt.plot(train_sizes, train_mean, color='blue', marker='o', label='Training accuracy')\n",
    "plt.fill_between(train_sizes, train_mean - train_std, train_mean + train_std, alpha=0.15, color='blue')\n",
    "plt.plot(train_sizes, test_mean, color='green', linestyle='--', marker='s', label='Validation accuracy')\n",
    "plt.fill_between(train_sizes, test_mean - test_std, test_mean + test_std, alpha=0.15, color='green')\n",
    "plt.title('Learning Curve')\n",
    "plt.xlabel('Number of training samples')\n",
    "plt.ylabel('Accuracy')\n",
    "plt.legend()\n",
    "plt.grid(True)\n",
    "plt.show()\n"
   ]
  },
  {
   "cell_type": "markdown",
   "metadata": {},
   "source": [
    "### **Trying to confirm n_neighbors value**"
   ]
  },
  {
   "cell_type": "code",
   "execution_count": 38,
   "metadata": {},
   "outputs": [
    {
     "name": "stdout",
     "output_type": "stream",
     "text": [
      "Randomized search acheived 74.85% Accuracy\n"
     ]
    },
    {
     "data": {
      "text/plain": [
       "{'knn__n_neighbors': 12, 'image_mask__strategy': 'geometry'}"
      ]
     },
     "execution_count": 38,
     "metadata": {},
     "output_type": "execute_result"
    }
   ],
   "source": [
    "from sklearn.preprocessing import StandardScaler\n",
    "from sklearn.model_selection import cross_validate, RandomizedSearchCV\n",
    "\n",
    "pipeline = Pipeline([\n",
    "    ('image_mask', MaskSeuilTransformer()),\n",
    "    ('std_scaler', StandardScaler()),\n",
    "    ('knn', KNeighborsClassifier(n_neighbors=13))\n",
    "])\n",
    "\n",
    "param_grid = {'image_mask__strategy': [\"combined\", \"geometry\", \"baseline\"],\n",
    "              'knn__n_neighbors': range(4,15)}\n",
    "\n",
    "random_search = RandomizedSearchCV(\n",
    "                    pipeline,\n",
    "                    param_distributions=param_grid, \n",
    "                    n_iter=20,\n",
    "                    cv=5,\n",
    "                    scoring='accuracy',\n",
    "                    random_state=42).fit(X, y)\n",
    "\n",
    "\n",
    "ac = round(random_search.score(X_test, y_test) * 100, 2)\n",
    "print(\"Randomized search acheived \" + str(ac) + \"% Accuracy\")\n",
    "random_search.best_params_"
   ]
  },
  {
   "cell_type": "markdown",
   "metadata": {},
   "source": [
    "**Trying to combine differents transformer**"
   ]
  },
  {
   "cell_type": "code",
   "execution_count": null,
   "metadata": {},
   "outputs": [],
   "source": [
    "from sklearn.preprocessing import StandardScaler\n",
    "from sklearn.model_selection import cross_validate, RandomizedSearchCV\n",
    "from local_lib.testerTransformer import TesterTransformer\n",
    "\n",
    "pipeline = Pipeline([\n",
    "    ('image_mask', MaskSeuilTransformer()),\n",
    "    ('tester_tr', TesterTransformer()),\n",
    "    ('knn', KNeighborsClassifier(n_neighbors=13))\n",
    "])\n",
    "\n",
    "param_grid = {'image_mask__strategy': [\"combined\", \"geometry\", \"baseline\"],\n",
    "              'knn__n_neighbors': range(4,15),\n",
    "              'tester_tr__strategy' : [\"StandardScaler\",\"MinMaxScaler\",\"Normalizer\"]\n",
    "              }\n",
    "\n",
    "random_search = RandomizedSearchCV(\n",
    "                    pipeline,\n",
    "                    param_distributions=param_grid, \n",
    "                    n_iter=20,\n",
    "                    cv=5,\n",
    "                    scoring='accuracy',\n",
    "                    random_state=42).fit(X, y)\n",
    "\n",
    "\n",
    "ac = round(random_search.score(X_test, y_test) * 100, 2)\n",
    "print(\"Randomized search acheived \" + str(ac) + \"% Accuracy\")\n",
    "random_search.best_params_"
   ]
  }
 ],
 "metadata": {
  "kernelspec": {
   "display_name": "Python 3",
   "language": "python",
   "name": "python3"
  },
  "language_info": {
   "codemirror_mode": {
    "name": "ipython",
    "version": 3
   },
   "file_extension": ".py",
   "mimetype": "text/x-python",
   "name": "python",
   "nbconvert_exporter": "python",
   "pygments_lexer": "ipython3",
   "version": "3.12.2"
  }
 },
 "nbformat": 4,
 "nbformat_minor": 2
}
