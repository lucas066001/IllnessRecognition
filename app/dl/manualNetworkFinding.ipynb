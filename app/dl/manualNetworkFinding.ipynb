{
 "cells": [
  {
   "cell_type": "markdown",
   "metadata": {},
   "source": [
    "# Manual Network finding\n",
    "\n",
    "This notebook will work finding the best trade-off for our own implemented neural network, using previous data transformation\n",
    "\n",
    "**Main goals are**: \n",
    "- Expose results that will be compared to ML ones"
   ]
  },
  {
   "cell_type": "code",
   "execution_count": 1,
   "metadata": {},
   "outputs": [],
   "source": [
    "from local_lib.dataset import retreiveDatasetFromCsv\n",
    "from local_lib.flatten_transformer import FlattenTransformer\n",
    "from sklearn.pipeline import Pipeline\n",
    "import numpy as np\n",
    "from sklearn.model_selection import train_test_split\n",
    "from local_lib.non_zero_transformer import NonZeroTransformer\n",
    "from local_lib.mask_transformer import MaskSeuilTransformer\n",
    "from local_lib.flatten_transformer import FlattenTransformer\n",
    "from local_lib.dimension_transformer import DimensionTransformer\n",
    "import numpy as np\n",
    "from sklearn.decomposition import PCA\n",
    "\n",
    "dataset = retreiveDatasetFromCsv()\n",
    "dataset = dataset.sample(frac=1, random_state=42)\n",
    "\n",
    "pipeline = Pipeline([\n",
    "    ('flatten_tr', FlattenTransformer()),\n",
    "    ('non_zero_tr', NonZeroTransformer()),\n",
    "    ('mask_tr', MaskSeuilTransformer(strategy=\"combined\")),\n",
    "    ('dimension_tr', DimensionTransformer())])"
   ]
  },
  {
   "cell_type": "code",
   "execution_count": 2,
   "metadata": {},
   "outputs": [
    {
     "data": {
      "text/plain": [
       "(5856, 50)"
      ]
     },
     "execution_count": 2,
     "metadata": {},
     "output_type": "execute_result"
    }
   ],
   "source": [
    "# Fit and transform data\n",
    "X = pipeline.fit_transform(dataset[\"pixel_value\"])\n",
    "y = np.array(list(dataset[\"class\"]))\n",
    "\n",
    "pca = PCA(n_components=50)\n",
    "X = pca.fit_transform(X)\n",
    "\n",
    "X_train, X_test, y_train, y_test = train_test_split(X, y, test_size=0.33, random_state=0)\n",
    "X.shape"
   ]
  },
  {
   "cell_type": "markdown",
   "metadata": {},
   "source": [
    "**Need to transpose input and output layers because we used transposed version of LogLoss for more explicit visualization**"
   ]
  },
  {
   "cell_type": "code",
   "execution_count": 3,
   "metadata": {},
   "outputs": [],
   "source": [
    "import numpy as np\n",
    "y_train = y_train.reshape(1, -1)\n",
    "y_test = y_test.reshape(1, -1)\n",
    "X_train = X_train.T\n",
    "X_test = X_test.T"
   ]
  },
  {
   "cell_type": "code",
   "execution_count": 4,
   "metadata": {},
   "outputs": [
    {
     "name": "stdout",
     "output_type": "stream",
     "text": [
      "(50, 3923)\n",
      "(50, 1933)\n",
      "(1, 3923)\n",
      "(1, 1933)\n"
     ]
    }
   ],
   "source": [
    "print(X_train.shape)\n",
    "print(X_test.shape)\n",
    "print(y_train.shape)\n",
    "print(y_test.shape)"
   ]
  },
  {
   "cell_type": "markdown",
   "metadata": {},
   "source": [
    "**Instantiate a sample neural network**"
   ]
  },
  {
   "cell_type": "code",
   "execution_count": 28,
   "metadata": {},
   "outputs": [],
   "source": [
    "import numpy as np\n",
    "import matplotlib.pyplot as plt\n",
    "from sklearn.datasets import make_blobs, make_circles\n",
    "from sklearn.metrics import accuracy_score, log_loss\n",
    "from tqdm import tqdm\n",
    "\n",
    "class MultiClassNeuralNetwork():\n",
    "    def __init__(self, X, y, dimensions = (16, 16, 16), lr=0.1, n_iter=1000, test_size=0.2):\n",
    "        self.lr = lr\n",
    "        self.n_iter = n_iter\n",
    "        self.test_size = test_size\n",
    "        self.dimensions = list(dimensions)\n",
    "        self.dimensions.insert(0, X.shape[0])\n",
    "        self.dimensions.append(y.shape[0])\n",
    "        self.parameters = {}\n",
    "\n",
    "        self.classes = np.unique(y)\n",
    "        self.output_act = []\n",
    "        self.divider  = len(np.unique(y)) + 1\n",
    "        bornes = np.linspace(0,1, self.divider)\n",
    "        self.output_act = []\n",
    "        self.mapped_classes = {}\n",
    "\n",
    "        for i in range(0, len(self.classes)):\n",
    "            self.output_act.append([round(bornes[i], 2), round(bornes[i + 1], 2), self.classes[i]])\n",
    "            self.mapped_classes[i] = round((round(bornes[i], 2) + round(bornes[i + 1], 2)) / 2, 2)\n",
    "        print(self.mapped_classes)\n",
    "        print(self.output_act)\n",
    "\n",
    "        # Initialisation de W1, b1, ...\n",
    "        C = len(self.dimensions)\n",
    "        for c in range(1, C):\n",
    "            self.parameters['W' + str(c)] = np.random.randn(self.dimensions[c], self.dimensions[c - 1])\n",
    "            self.parameters['b' + str(c)] = np.random.randn(self.dimensions[c], 1)\n",
    "\n",
    "    def get_corresponding_classes(self, acts):\n",
    "        results = []\n",
    "\n",
    "\n",
    "        for act in acts[0]:\n",
    "            result = 0\n",
    "            for i in range(len(self.output_act)):\n",
    "                if self.output_act[i][0] <= act < self.output_act[i][1]:\n",
    "                    result = self.output_act[i][2]\n",
    "                    break  # On peut arrêter la boucle une fois que la classe correspondante est trouvée\n",
    "            results.append(result)\n",
    "        return np.array(results).reshape(1, -1)\n",
    "\n",
    "    def forward_propagation(self, X):\n",
    "        activations = {'A0': X}\n",
    "\n",
    "        C = len(self.parameters) // 2\n",
    "\n",
    "        for c in range(1, C + 1):\n",
    "\n",
    "            Z = self.parameters['W' + str(c)].dot(activations['A' + str(c - 1)]) + self.parameters['b' + str(c)]\n",
    "            activations['A' + str(c)] = 1 / (1 + np.exp(-Z))\n",
    "\n",
    "        return activations\n",
    "    \n",
    "    def back_propagation(self, y, activations):\n",
    "\n",
    "        m = y.shape[1]\n",
    "        C = len(self.parameters) // 2\n",
    "        dZ = activations['A' + str(C)] - y\n",
    "        gradients = {}\n",
    "\n",
    "        for c in reversed(range(1, C + 1)):\n",
    "            gradients['dW' + str(c)] = 1/m * np.dot(dZ, activations['A' + str(c - 1)].T)\n",
    "            gradients['db' + str(c)] = 1/m * np.sum(dZ, axis=1, keepdims=True)\n",
    "            #N'a pas de sens pour Z0\n",
    "            if c > 1:\n",
    "                dZ = np.dot(self.parameters['W' + str(c)].T, dZ) * activations['A' + str(c - 1)] * (1 - activations['A' + str(c - 1)])\n",
    "\n",
    "        return gradients\n",
    "\n",
    "    def update(self, gradients):\n",
    "\n",
    "        C = len(self.parameters) // 2\n",
    "\n",
    "        for c in range(1, C + 1):\n",
    "            self.parameters['W' + str(c)] = self.parameters['W' + str(c)] - self.lr * gradients['dW' + str(c)]\n",
    "            self.parameters['b' + str(c)] = self.parameters['b' + str(c)] - self.lr * gradients['db' + str(c)]\n",
    "\n",
    "        return\n",
    "\n",
    "    def predict(self, X):\n",
    "        activations = self.forward_propagation(X)\n",
    "        C = len(self.parameters) // 2\n",
    "        Af = activations['A' + str(C)]\n",
    "        return self.get_corresponding_classes(Af)\n",
    "    \n",
    "    def log_loss(self, A, y):\n",
    "        #Calcule du cout pour une itération\n",
    "        epsilon = 1e-15\n",
    "        return 1 / len(y) * np.sum(-y * np.log(A + epsilon) - (1 - y) * np.log(1 - A + epsilon))\n",
    "\n",
    "    def fit(self, X_train, X_test, y_train, y_test):\n",
    "\n",
    "        training_history = np.zeros((int(self.n_iter), 3))\n",
    "\n",
    "        C = len(self.parameters) // 2\n",
    "        y_train_adjusted = np.array([self.mapped_classes[val] for val in y_train[0]]).reshape(1, -1)\n",
    "        y_test_adjusted = np.array([self.mapped_classes[val] for val in y_test[0]]).reshape(1, -1)\n",
    "\n",
    "        # gradient descent\n",
    "        for i in tqdm(range(self.n_iter)):\n",
    "\n",
    "            activations = self.forward_propagation(X_train)\n",
    "            gradients = self.back_propagation(y_train_adjusted, activations)\n",
    "            self.update(gradients)\n",
    "            Af = activations['A' + str(C)]\n",
    "            # calcul du log_loss et de l'accuracy\n",
    "            y_pred_train = self.predict(X_train)\n",
    "            y_pred_test = self.predict(X_test)\n",
    "            # training_history[i, 0] = (log_loss(y_train.flatten(), y_pred_train.flatten(), labels=self.classes))\n",
    "            training_history[i, 0] = (self.log_loss(Af.flatten(), y_train_adjusted.flatten()))\n",
    "            # training_history[i, 1] = (accuracy_score(y_train_adjusted.flatten(), y_pred_train.flatten()))\n",
    "            # training_history[i, 2] = (accuracy_score(y_test_adjusted.flatten(), y_pred_test.flatten()))\n",
    "\n",
    "        return training_history"
   ]
  },
  {
   "cell_type": "code",
   "execution_count": 11,
   "metadata": {},
   "outputs": [
    {
     "data": {
      "text/plain": [
       "array([0, 2, 2, ..., 2, 2, 1])"
      ]
     },
     "execution_count": 11,
     "metadata": {},
     "output_type": "execute_result"
    }
   ],
   "source": [
    "y_train[0]"
   ]
  },
  {
   "cell_type": "code",
   "execution_count": 40,
   "metadata": {},
   "outputs": [
    {
     "name": "stdout",
     "output_type": "stream",
     "text": [
      "{0: 0.16, 1: 0.5, 2: 0.84}\n",
      "[[0.0, 0.33, 0], [0.33, 0.67, 1], [0.67, 1.0, 2]]\n"
     ]
    },
    {
     "name": "stderr",
     "output_type": "stream",
     "text": [
      "  0%|          | 0/4000 [00:00<?, ?it/s]C:\\Users\\chapu\\AppData\\Local\\Temp\\ipykernel_26528\\3016967319.py:57: RuntimeWarning: overflow encountered in exp\n",
      "  activations['A' + str(c)] = 1 / (1 + np.exp(-Z))\n",
      "100%|██████████| 4000/4000 [12:09<00:00,  5.49it/s]\n"
     ]
    }
   ],
   "source": [
    "mnn = MultiClassNeuralNetwork(X_train, y_train, dimensions=(128,128,128,128), n_iter=4000, lr=0.05)\n",
    "hist = mnn.fit(X_train, X_test, y_train,y_test)"
   ]
  },
  {
   "cell_type": "code",
   "execution_count": 41,
   "metadata": {},
   "outputs": [
    {
     "data": {
      "image/png": "[encoded data removed]",
      "text/plain": [
       "<Figure size 640x480 with 1 Axes>"
      ]
     },
     "metadata": {},
     "output_type": "display_data"
    }
   ],
   "source": [
    "from sklearn.metrics import accuracy_score\n",
    "import matplotlib.pyplot as plt\n",
    "\n",
    "plt.plot(hist[:, 0])\n",
    "plt.show()"
   ]
  },
  {
   "cell_type": "code",
   "execution_count": 30,
   "metadata": {},
   "outputs": [
    {
     "data": {
      "image/png": "[encoded data removed]",
      "text/plain": [
       "<Figure size 640x480 with 1 Axes>"
      ]
     },
     "metadata": {},
     "output_type": "display_data"
    }
   ],
   "source": [
    "from sklearn.metrics import accuracy_score\n",
    "import matplotlib.pyplot as plt\n",
    "\n",
    "plt.plot(hist[:, 0])\n",
    "plt.show()"
   ]
  },
  {
   "cell_type": "code",
   "execution_count": 35,
   "metadata": {},
   "outputs": [
    {
     "data": {
      "image/png": "[encoded data removed]",
      "text/plain": [
       "<Figure size 640x480 with 1 Axes>"
      ]
     },
     "metadata": {},
     "output_type": "display_data"
    }
   ],
   "source": [
    "from sklearn.metrics import accuracy_score\n",
    "import matplotlib.pyplot as plt\n",
    "\n",
    "plt.plot(hist[:, 0])\n",
    "plt.show()"
   ]
  },
  {
   "cell_type": "code",
   "execution_count": 50,
   "metadata": {},
   "outputs": [],
   "source": [
    "from local_lib.dataset import retreiveDatasetFromCsv\n",
    "from local_lib.flatten_transformer import FlattenTransformer\n",
    "from sklearn.pipeline import Pipeline\n",
    "import numpy as np\n",
    "from sklearn.model_selection import train_test_split\n",
    "from local_lib.non_zero_transformer import NonZeroTransformer\n",
    "from local_lib.mask_transformer import MaskSeuilTransformer\n",
    "from local_lib.flatten_transformer import FlattenTransformer\n",
    "from local_lib.dimension_transformer import DimensionTransformer\n",
    "import numpy as np\n",
    "from sklearn.preprocessing import MinMaxScaler\n",
    "from sklearn.decomposition import PCA\n",
    "\n",
    "pipeline = Pipeline([\n",
    "    ('minmax', MinMaxScaler())])\n",
    "\n",
    "X_train = pipeline.fit_transform(X_train)\n",
    "X_test = pipeline.fit_transform(X_test)"
   ]
  },
  {
   "cell_type": "code",
   "execution_count": 49,
   "metadata": {},
   "outputs": [
    {
     "data": {
      "text/plain": [
       "array([0.00000000e+00, 7.59789183e-05, 1.05153927e-04, ...,\n",
       "       1.00000000e+00, 1.00000000e+00, 1.00000000e+00])"
      ]
     },
     "execution_count": 49,
     "metadata": {},
     "output_type": "execute_result"
    }
   ],
   "source": [
    "np.unique(X_train)"
   ]
  },
  {
   "cell_type": "code",
   "execution_count": 36,
   "metadata": {},
   "outputs": [
    {
     "name": "stderr",
     "output_type": "stream",
     "text": [
      "C:\\Users\\chapu\\AppData\\Local\\Temp\\ipykernel_26528\\3016967319.py:57: RuntimeWarning: overflow encountered in exp\n",
      "  activations['A' + str(c)] = 1 / (1 + np.exp(-Z))\n"
     ]
    }
   ],
   "source": [
    "y_pred_test = mnn.predict(X_test)"
   ]
  },
  {
   "cell_type": "code",
   "execution_count": 37,
   "metadata": {},
   "outputs": [
    {
     "data": {
      "text/plain": [
       "array([0, 1, 2])"
      ]
     },
     "execution_count": 37,
     "metadata": {},
     "output_type": "execute_result"
    }
   ],
   "source": [
    "np.unique(y_pred_test)"
   ]
  },
  {
   "cell_type": "code",
   "execution_count": 33,
   "metadata": {},
   "outputs": [
    {
     "data": {
      "text/plain": [
       "array([0, 1, 2])"
      ]
     },
     "execution_count": 33,
     "metadata": {},
     "output_type": "execute_result"
    }
   ],
   "source": [
    "np.unique(y_test)"
   ]
  },
  {
   "cell_type": "code",
   "execution_count": 33,
   "metadata": {},
   "outputs": [
    {
     "name": "stdout",
     "output_type": "stream",
     "text": [
      "0\n",
      "1\n",
      "2\n",
      "[[0.0, 0.33, 0], [0.33, 0.67, 1], [0.67, 1.0, 2]]\n"
     ]
    },
    {
     "data": {
      "text/plain": [
       "2"
      ]
     },
     "execution_count": 33,
     "metadata": {},
     "output_type": "execute_result"
    }
   ],
   "source": [
    "import numpy as np\n",
    "\n",
    "classes = [0, 1, 2]\n",
    "\n",
    "divider = len(np.unique(classes)) + 1\n",
    "bornes = np.linspace(0,1, divider)\n",
    "output_act = []\n",
    "\n",
    "for i in range(0, len(classes)):\n",
    "\n",
    "    output_act.append([round(1 * bornes[i], 2), round(1 * bornes[i + 1], 2), classes[i]])\n",
    "\n",
    "\n",
    "\n",
    "pred = 0.67\n",
    "\n",
    "def get_corresponding_classe(act):\n",
    "    result = 0\n",
    "    for i in range(0, len(output_act)):\n",
    "        if(output_act[i][0] <= act < output_act[i][1]):\n",
    "            result = output_act[i][2]\n",
    "\n",
    "    return result\n",
    "get_corresponding_classe(pred)"
   ]
  }
 ],
 "metadata": {
  "kernelspec": {
   "display_name": "Python 3",
   "language": "python",
   "name": "python3"
  },
  "language_info": {
   "codemirror_mode": {
    "name": "ipython",
    "version": 3
   },
   "file_extension": ".py",
   "mimetype": "text/x-python",
   "name": "python",
   "nbconvert_exporter": "python",
   "pygments_lexer": "ipython3",
   "version": "3.12.2"
  }
 },
 "nbformat": 4,
 "nbformat_minor": 2
}
