{
 "cells": [
  {
   "cell_type": "markdown",
   "metadata": {},
   "source": [
    "# Number Recognition\n",
    "\n",
    "This notebook will work on a popular handwritten digits datababase called MNIST.\n",
    "\n",
    "*** Main goals are ***: \n",
    "    * Being able to format input data\n",
    "    * Retreiving metrics about original dataset\n",
    "    * Choosing a model based on our problem\n",
    "    * Training the model properly\n",
    "    * Check model performances"
   ]
  },
  {
   "cell_type": "code",
   "execution_count": null,
   "metadata": {},
   "outputs": [],
   "source": []
  }
 ],
 "metadata": {
  "language_info": {
   "name": "python"
  }
 },
 "nbformat": 4,
 "nbformat_minor": 2
}
